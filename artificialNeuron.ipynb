{
 "cells": [
  {
   "cell_type": "code",
   "execution_count": 1,
   "id": "4af9b7ed-dcc4-48ac-abe5-a43a897c016c",
   "metadata": {},
   "outputs": [],
   "source": [
    "import numpy as np\n",
    "import matplotlib.pyplot as plt\n",
    "from sklearn.datasets import make_blobs"
   ]
  },
  {
   "cell_type": "markdown",
   "id": "24695eb1-8b07-4e36-a716-1b8b0ed959a2",
   "metadata": {},
   "source": [
    "# create the features and the number of examples"
   ]
  },
  {
   "cell_type": "code",
   "execution_count": 2,
   "id": "0646c04b-e040-4df1-9f8f-91edd6dcf319",
   "metadata": {},
   "outputs": [
    {
     "name": "stdout",
     "output_type": "stream",
     "text": [
      "(100, 2)\n",
      "(100, 1)\n"
     ]
    },
    {
     "data": {
      "image/png": "[encoded data removed]",
      "text/plain": [
       "<Figure size 432x288 with 1 Axes>"
      ]
     },
     "metadata": {
      "needs_background": "light"
     },
     "output_type": "display_data"
    }
   ],
   "source": [
    "X, y = make_blobs(n_samples=100, n_features=2, centers=2, random_state=0)\n",
    "y = y.reshape((y.shape[0],1))\n",
    "\n",
    "print(X.shape)\n",
    "print(y.shape)\n",
    "\n",
    "plt.scatter(X[:,0],X[:,1],c=y,cmap='summer')\n",
    "plt.show()\n"
   ]
  },
  {
   "cell_type": "markdown",
   "id": "4189c24b-e8b3-4611-92f5-bebbe7b6f89d",
   "metadata": {},
   "source": [
    "# "
   ]
  },
  {
   "cell_type": "markdown",
   "id": "c01f2a7e-6c1d-423e-9b97-3fa658c5b7f6",
   "metadata": {},
   "source": [
    "![](pic/capture2.png)"
   ]
  },
  {
   "cell_type": "markdown",
   "id": "ce3d4bcb-85e8-42c0-a5d4-c85d9da3e0c6",
   "metadata": {},
   "source": [
    "# initiqlisqtion des poids dentré le bias"
   ]
  },
  {
   "cell_type": "code",
   "execution_count": 3,
   "id": "e516e33f-492d-4c41-a865-3f20ecd736c0",
   "metadata": {},
   "outputs": [],
   "source": [
    "def initialisation(x):\n",
    "    W = np.random.randn(X.shape[1],1)\n",
    "    b = np.random.randn(1)\n",
    "    return(W,b)"
   ]
  },
  {
   "cell_type": "markdown",
   "id": "726baf18-227b-4332-bfc2-f40925a2aebe",
   "metadata": {},
   "source": [
    "## appel initialisation(x)"
   ]
  },
  {
   "cell_type": "code",
   "execution_count": 4,
   "id": "24a55f68-4bce-46a5-8e63-be3ab0e384e2",
   "metadata": {},
   "outputs": [],
   "source": [
    "#W,b = initialisation(X)\n",
    "#print(W.shape)\n",
    "#print(b.shape)"
   ]
  },
  {
   "cell_type": "markdown",
   "id": "1593dea6-3b75-4012-a669-bb758bed17ac",
   "metadata": {},
   "source": [
    "# la somme de poid d'entré foix vecteur d'entré x(i)*w(i) +bias et affictation de la fonction de noronne "
   ]
  },
  {
   "cell_type": "markdown",
   "id": "e90b9986-f8ed-4378-b93b-4755554dd2b7",
   "metadata": {},
   "source": [
    "![](pic/capture.png)"
   ]
  },
  {
   "cell_type": "code",
   "execution_count": 5,
   "id": "75d66faa-c64a-4d79-9f48-731fbc18429b",
   "metadata": {},
   "outputs": [],
   "source": [
    "def model(x,w,b):\n",
    "    Z = x.dot(w) + b\n",
    "    A = 1 / (1 + np.exp(-Z))\n",
    "    return A"
   ]
  },
  {
   "cell_type": "code",
   "execution_count": 6,
   "id": "a584c102-6350-4f5d-9edf-719b19dcf458",
   "metadata": {},
   "outputs": [],
   "source": [
    "def log_loss(A,y):\n",
    "    return 1 / len(y) * np.sum(-y * np.log(A) - (1 - y) * np.log(1 - A))"
   ]
  },
  {
   "cell_type": "code",
   "execution_count": 7,
   "id": "abc45d96-be11-4aeb-b0d0-179d25bd7a2f",
   "metadata": {},
   "outputs": [],
   "source": [
    "def gradients(A, X, y):\n",
    "    dW = 1 / len(y) * np.dot(X.T,A-y)\n",
    "    db = 1 / len(y) * np.sum(A - y)\n",
    "    return (dW, db)"
   ]
  },
  {
   "cell_type": "code",
   "execution_count": 8,
   "id": "f7d67dc4-854a-4263-856b-38dc7a08ee19",
   "metadata": {},
   "outputs": [],
   "source": [
    "def update(dW, db,W, b, learning_rate):\n",
    "    W = W - learning_rate * dW\n",
    "    b = b - learning_rate * db\n",
    "    return (W, b)"
   ]
  },
  {
   "cell_type": "code",
   "execution_count": 25,
   "id": "f700822b-95a5-40e7-8397-7a1c76426865",
   "metadata": {},
   "outputs": [],
   "source": [
    "def predict(X, W, b):\n",
    "    A = model(X,W,b)\n",
    "    print(A)\n",
    "    return A >= 0.5"
   ]
  },
  {
   "cell_type": "code",
   "execution_count": 10,
   "id": "93b0447a-c322-403d-be1e-0bb9bdd06939",
   "metadata": {},
   "outputs": [],
   "source": [
    "from sklearn.metrics import accuracy_score"
   ]
  },
  {
   "cell_type": "code",
   "execution_count": 26,
   "id": "75d7efcf-d128-49df-ba39-40136af7f8a3",
   "metadata": {},
   "outputs": [],
   "source": [
    "def artificial_neuron(X, y, learning_rate = 0.1, n_iter = 100):\n",
    "    #initialization W,b\n",
    "    \n",
    "    W, b = initialisation(X)\n",
    "    loss = []\n",
    "    for i in range(n_iter):\n",
    "        A = model(X,W,b)\n",
    "        loss.append(log_loss(A,y))\n",
    "        dW, db = gradients(A, X, y)\n",
    "        W, b = update(dW, db,W, b, learning_rate)\n",
    "        \n",
    "    y_pred = predict(X, W, b)\n",
    "    print(accuracy_score(y, y_pred))\n",
    "    \n",
    "    plt.plot(loss)\n",
    "    plt.show()\n",
    "    \n",
    "    return (W, b)"
   ]
  },
  {
   "cell_type": "code",
   "execution_count": 28,
   "id": "8051db2e-ff13-412f-92fa-f2a7344127f9",
   "metadata": {},
   "outputs": [
    {
     "name": "stdout",
     "output_type": "stream",
     "text": [
      "[[0.96232333]\n",
      " [0.74430553]\n",
      " [0.00701439]\n",
      " [0.14603279]\n",
      " [0.95674307]\n",
      " [0.35479957]\n",
      " [0.07987713]\n",
      " [0.94324169]\n",
      " [0.05494814]\n",
      " [0.84932465]\n",
      " [0.03712855]\n",
      " [0.85780915]\n",
      " [0.03193186]\n",
      " [0.02151093]\n",
      " [0.70645016]\n",
      " [0.9800295 ]\n",
      " [0.98807349]\n",
      " [0.04199717]\n",
      " [0.70922288]\n",
      " [0.63254987]\n",
      " [0.05324824]\n",
      " [0.04260349]\n",
      " [0.39599399]\n",
      " [0.00688537]\n",
      " [0.94225376]\n",
      " [0.03849974]\n",
      " [0.87388298]\n",
      " [0.01149137]\n",
      " [0.07658615]\n",
      " [0.73685854]\n",
      " [0.97188993]\n",
      " [0.05176689]\n",
      " [0.65269188]\n",
      " [0.97235042]\n",
      " [0.40968426]\n",
      " [0.24934126]\n",
      " [0.76192444]\n",
      " [0.55162524]\n",
      " [0.47589387]\n",
      " [0.44617796]\n",
      " [0.07467458]\n",
      " [0.08897884]\n",
      " [0.00127522]\n",
      " [0.17903227]\n",
      " [0.20781541]\n",
      " [0.8267603 ]\n",
      " [0.95757444]\n",
      " [0.9501833 ]\n",
      " [0.00613164]\n",
      " [0.01230913]\n",
      " [0.92708297]\n",
      " [0.5478703 ]\n",
      " [0.05706776]\n",
      " [0.0489902 ]\n",
      " [0.81282939]\n",
      " [0.05043934]\n",
      " [0.71131734]\n",
      " [0.80816212]\n",
      " [0.94139074]\n",
      " [0.98714266]\n",
      " [0.63782568]\n",
      " [0.1973495 ]\n",
      " [0.00661143]\n",
      " [0.91621193]\n",
      " [0.01861975]\n",
      " [0.37279841]\n",
      " [0.04130402]\n",
      " [0.62564511]\n",
      " [0.93423218]\n",
      " [0.28588414]\n",
      " [0.18841897]\n",
      " [0.90475632]\n",
      " [0.96503264]\n",
      " [0.12501195]\n",
      " [0.12662614]\n",
      " [0.04399636]\n",
      " [0.52158744]\n",
      " [0.85924764]\n",
      " [0.05442125]\n",
      " [0.04124175]\n",
      " [0.28226073]\n",
      " [0.11173666]\n",
      " [0.00567898]\n",
      " [0.13005543]\n",
      " [0.10759614]\n",
      " [0.01571097]\n",
      " [0.96375589]\n",
      " [0.08166205]\n",
      " [0.78921828]\n",
      " [0.94746792]\n",
      " [0.89044821]\n",
      " [0.97510282]\n",
      " [0.44931098]\n",
      " [0.91279585]\n",
      " [0.33147687]\n",
      " [0.00169674]\n",
      " [0.96923036]\n",
      " [0.95439803]\n",
      " [0.01219167]\n",
      " [0.42466352]]\n",
      "0.89\n"
     ]
    },
    {
     "data": {
      "image/png": "[encoded data removed]",
      "text/plain": [
       "<Figure size 432x288 with 1 Axes>"
      ]
     },
     "metadata": {
      "needs_background": "light"
     },
     "output_type": "display_data"
    }
   ],
   "source": [
    "W, b = artificial_neuron(X, y)"
   ]
  },
  {
   "cell_type": "code",
   "execution_count": 37,
   "id": "69605891-cca7-4c13-b46c-545cb85e2b41",
   "metadata": {},
   "outputs": [
    {
     "data": {
      "image/png": "[encoded data removed]",
      "text/plain": [
       "<Figure size 432x288 with 1 Axes>"
      ]
     },
     "metadata": {
      "needs_background": "light"
     },
     "output_type": "display_data"
    }
   ],
   "source": [
    "new_plant = np.array([-1,5])\n",
    "\n",
    "x0 = np.linspace(-1, 4, 100 )\n",
    "x1 = (-W[0] * x0 - b) /W[1]\n",
    "\n",
    "plt.scatter(X[:,0],X[:,1],c=y,cmap='summer')\n",
    "plt.scatter(new_plant[0], new_plant[1], c='r')\n",
    "plt.plot(x0, x1, c='orange')\n",
    "plt.show()"
   ]
  },
  {
   "cell_type": "code",
   "execution_count": 35,
   "id": "a5993d10-1456-422d-9786-5013fcc71d16",
   "metadata": {},
   "outputs": [
    {
     "name": "stdout",
     "output_type": "stream",
     "text": [
      "[0.0032265]\n"
     ]
    },
    {
     "data": {
      "text/plain": [
       "array([False])"
      ]
     },
     "execution_count": 35,
     "metadata": {},
     "output_type": "execute_result"
    }
   ],
   "source": [
    "predict(new_plant, W, b)"
   ]
  },
  {
   "cell_type": "code",
   "execution_count": null,
   "id": "b1c24a85-0fc1-42b6-a5f1-ff9f60c0a745",
   "metadata": {},
   "outputs": [],
   "source": []
  }
 ],
 "metadata": {
  "kernelspec": {
   "display_name": "Python 3 (ipykernel)",
   "language": "python",
   "name": "python3"
  },
  "language_info": {
   "codemirror_mode": {
    "name": "ipython",
    "version": 3
   },
   "file_extension": ".py",
   "mimetype": "text/x-python",
   "name": "python",
   "nbconvert_exporter": "python",
   "pygments_lexer": "ipython3",
   "version": "3.8.0"
  }
 },
 "nbformat": 4,
 "nbformat_minor": 5
}
