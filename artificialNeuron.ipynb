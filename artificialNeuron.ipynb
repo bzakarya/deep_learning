{
 "cells": [
  {
   "cell_type": "code",
   "execution_count": 1,
   "id": "4af9b7ed-dcc4-48ac-abe5-a43a897c016c",
   "metadata": {},
   "outputs": [],
   "source": [
    "import numpy as np\n",
    "import matplotlib.pyplot as plt\n",
    "from sklearn.datasets import make_blobs"
   ]
  },
  {
   "cell_type": "markdown",
   "id": "24695eb1-8b07-4e36-a716-1b8b0ed959a2",
   "metadata": {},
   "source": [
    "# create the features and the number of examples"
   ]
  },
  {
   "cell_type": "code",
   "execution_count": 2,
   "id": "0646c04b-e040-4df1-9f8f-91edd6dcf319",
   "metadata": {},
   "outputs": [
    {
     "name": "stdout",
     "output_type": "stream",
     "text": [
      "(100, 2)\n",
      "(100, 1)\n"
     ]
    },
    {
     "data": {
      "image/png": "[encoded data removed]",
      "text/plain": [
       "<Figure size 432x288 with 1 Axes>"
      ]
     },
     "metadata": {
      "needs_background": "light"
     },
     "output_type": "display_data"
    }
   ],
   "source": [
    "X, y = make_blobs(n_samples=100, n_features=2, centers=2, random_state=0)\n",
    "y = y.reshape((y.shape[0],1))\n",
    "\n",
    "print(X.shape)\n",
    "print(y.shape)\n",
    "\n",
    "plt.scatter(X[:,0],X[:,1],c=y,cmap='summer')\n",
    "plt.show()\n"
   ]
  },
  {
   "cell_type": "markdown",
   "id": "4189c24b-e8b3-4611-92f5-bebbe7b6f89d",
   "metadata": {},
   "source": [
    "# "
   ]
  },
  {
   "cell_type": "markdown",
   "id": "c01f2a7e-6c1d-423e-9b97-3fa658c5b7f6",
   "metadata": {},
   "source": [
    "![](pic/capture2.png)"
   ]
  },
  {
   "cell_type": "markdown",
   "id": "ce3d4bcb-85e8-42c0-a5d4-c85d9da3e0c6",
   "metadata": {},
   "source": [
    "# initiqlisqtion des poids dentré le bias"
   ]
  },
  {
   "cell_type": "code",
   "execution_count": 3,
   "id": "e516e33f-492d-4c41-a865-3f20ecd736c0",
   "metadata": {},
   "outputs": [],
   "source": [
    "def initialisation(x):\n",
    "    W = np.random.randn(X.shape[1],1)\n",
    "    b = np.random.randn(1)\n",
    "    return(W,b)"
   ]
  },
  {
   "cell_type": "markdown",
   "id": "726baf18-227b-4332-bfc2-f40925a2aebe",
   "metadata": {},
   "source": [
    "## appel initialisation(x)"
   ]
  },
  {
   "cell_type": "code",
   "execution_count": 4,
   "id": "24a55f68-4bce-46a5-8e63-be3ab0e384e2",
   "metadata": {},
   "outputs": [],
   "source": [
    "#W,b = initialisation(X)\n",
    "#print(W.shape)\n",
    "#print(b.shape)"
   ]
  },
  {
   "cell_type": "markdown",
   "id": "1593dea6-3b75-4012-a669-bb758bed17ac",
   "metadata": {},
   "source": [
    "# la somme de poid d'entré foix vecteur d'entré x(i)*w(i) +bias et affictation de la fonction de noronne "
   ]
  },
  {
   "cell_type": "markdown",
   "id": "e90b9986-f8ed-4378-b93b-4755554dd2b7",
   "metadata": {},
   "source": [
    "![](pic/capture.png)"
   ]
  },
  {
   "cell_type": "code",
   "execution_count": 5,
   "id": "75d66faa-c64a-4d79-9f48-731fbc18429b",
   "metadata": {},
   "outputs": [],
   "source": [
    "def model(x,w,b):\n",
    "    Z = x.dot(w) + b\n",
    "    A = 1 / (1 + np.exp(-Z))\n",
    "    return A"
   ]
  },
  {
   "cell_type": "code",
   "execution_count": 6,
   "id": "a584c102-6350-4f5d-9edf-719b19dcf458",
   "metadata": {},
   "outputs": [],
   "source": [
    "def log_loss(A,y):\n",
    "    return 1 / len(y) * np.sum(-y * np.log(A) - (1 - y) * np.log(1 - A))"
   ]
  },
  {
   "cell_type": "code",
   "execution_count": 7,
   "id": "abc45d96-be11-4aeb-b0d0-179d25bd7a2f",
   "metadata": {},
   "outputs": [],
   "source": [
    "def gradients(A, X, y):\n",
    "    dW = 1 / len(y) * np.dot(X.T,A-y)\n",
    "    db = 1 / len(y) * np.sum(A - y)\n",
    "    return (dW, db)"
   ]
  },
  {
   "cell_type": "code",
   "execution_count": 8,
   "id": "f7d67dc4-854a-4263-856b-38dc7a08ee19",
   "metadata": {},
   "outputs": [],
   "source": [
    "def update(dW, db,W, b, learning_rate):\n",
    "    W = W - learning_rate * dW\n",
    "    b = b - learning_rate * db\n",
    "    return (W, b)"
   ]
  },
  {
   "cell_type": "code",
   "execution_count": 21,
   "id": "f700822b-95a5-40e7-8397-7a1c76426865",
   "metadata": {},
   "outputs": [],
   "source": [
    "def predict(X, W, b):\n",
    "    A = model(X,W,b)\n",
    "    print(A)\n",
    "    return A >= 0.5"
   ]
  },
  {
   "cell_type": "code",
   "execution_count": 10,
   "id": "93b0447a-c322-403d-be1e-0bb9bdd06939",
   "metadata": {},
   "outputs": [],
   "source": [
    "from sklearn.metrics import accuracy_score"
   ]
  },
  {
   "cell_type": "code",
   "execution_count": 17,
   "id": "75d7efcf-d128-49df-ba39-40136af7f8a3",
   "metadata": {},
   "outputs": [],
   "source": [
    "def artificial_neuron(X, y, learning_rate = 0.1, n_iter = 100):\n",
    "    #initialization W,b\n",
    "    \n",
    "    W, b = initialisation(X)\n",
    "    loss = []\n",
    "    for i in range(n_iter):\n",
    "        A = model(X,W,b)\n",
    "        loss.append(log_loss(A,y))\n",
    "        dW, db = gradients(A, X, y)\n",
    "        W, b = update(dW, db,W, b, learning_rate)\n",
    "        \n",
    "    y_pred = predict(X, W, b)\n",
    "    print(accuracy_score(y, y_pred))\n",
    "    \n",
    "    plt.plot(loss)\n",
    "    plt.show()\n",
    "    \n",
    "    return (W, b)\n"
   ]
  },
  {
   "cell_type": "code",
   "execution_count": 18,
   "id": "81a18bed-ed7f-4d7c-a2a0-5dece07a9575",
   "metadata": {},
   "outputs": [
    {
     "name": "stdout",
     "output_type": "stream",
     "text": [
      "0.87\n"
     ]
    },
    {
     "data": {
      "image/png": "[encoded data removed]",
      "text/plain": [
       "<Figure size 432x288 with 1 Axes>"
      ]
     },
     "metadata": {
      "needs_background": "light"
     },
     "output_type": "display_data"
    }
   ],
   "source": [
    "W, b = artificial_neuron(X, y)"
   ]
  },
  {
   "cell_type": "code",
   "execution_count": 19,
   "id": "69605891-cca7-4c13-b46c-545cb85e2b41",
   "metadata": {},
   "outputs": [
    {
     "data": {
      "image/png": "[encoded data removed]",
      "text/plain": [
       "<Figure size 432x288 with 1 Axes>"
      ]
     },
     "metadata": {
      "needs_background": "light"
     },
     "output_type": "display_data"
    }
   ],
   "source": [
    "new_plant = np.array([-1,5])\n",
    "\n",
    "x0 = np.linspace(-1, 4, 100 )\n",
    "x1 = (-W[0] * x0 - b) /W[1]\n",
    "\n",
    "plt.scatter(X[:,0],X[:,1],c=y,cmap='summer')\n",
    "plt.scatter(new_plant[0], new_plant[1], c='r')\n",
    "plt.plot(x0, x1, c='orange')\n",
    "plt.show()"
   ]
  },
  {
   "cell_type": "code",
   "execution_count": 22,
   "id": "a5993d10-1456-422d-9786-5013fcc71d16",
   "metadata": {},
   "outputs": [
    {
     "name": "stdout",
     "output_type": "stream",
     "text": [
      "[0.00517794]\n"
     ]
    },
    {
     "data": {
      "text/plain": [
       "array([False])"
      ]
     },
     "execution_count": 22,
     "metadata": {},
     "output_type": "execute_result"
    }
   ],
   "source": [
    "predict(new_plant, W, b)"
   ]
  },
  {
   "cell_type": "code",
   "execution_count": null,
   "id": "b1c24a85-0fc1-42b6-a5f1-ff9f60c0a745",
   "metadata": {},
   "outputs": [],
   "source": []
  }
 ],
 "metadata": {
  "kernelspec": {
   "display_name": "Python 3 (ipykernel)",
   "language": "python",
   "name": "python3"
  },
  "language_info": {
   "codemirror_mode": {
    "name": "ipython",
    "version": 3
   },
   "file_extension": ".py",
   "mimetype": "text/x-python",
   "name": "python",
   "nbconvert_exporter": "python",
   "pygments_lexer": "ipython3",
   "version": "3.8.0"
  }
 },
 "nbformat": 4,
 "nbformat_minor": 5
}
